{
 "cells": [
  {
   "cell_type": "markdown",
   "id": "4800de99",
   "metadata": {},
   "source": [
    "# Title: Act Report"
   ]
  },
  {
   "cell_type": "markdown",
   "id": "2d59fea7",
   "metadata": {},
   "source": [
    "In this project, three datasets was used in this project.\n",
    "\n",
    "Udacity provided the first dataset which is a csv file named twitter_archive_enhanced.csv. It contains basic information about 2356 tweets and was downloaded manually.\n",
    "\n",
    "The second dataset was a tsv file named image_prediction.tsv which was hosted on udacity server and I programmatically downloaded the file. It contains 2075 predictions made by a neural network that can classify dog breeds.\n",
    "\n",
    "For the third dataset, I scrapped the twitter API using python Tweepy’s Library. This third dataset contains information like the rewetet count, favorite count, followers count and friends count each tweet recieved for 2327 tweets in the file \"tweet_json_text\".\n",
    "\n",
    "During accessing the data, I found out 11 quality issues and 4 tidiness issues. I used a variety of Pandas methods to clean them up.\n",
    "\n",
    "> Here are some insights and visualizations that I got after I merged the three datasets into a master dataset named twitter_archive_master.csv.\n"
   ]
  },
  {
   "cell_type": "markdown",
   "id": "7c0d26b9",
   "metadata": {},
   "source": [
    "#### Descriptive Analysis"
   ]
  },
  {
   "cell_type": "code",
   "execution_count": 73,
   "id": "3fe42e9f",
   "metadata": {},
   "outputs": [
    {
     "data": {
      "text/html": [
       "<div>\n",
       "<style scoped>\n",
       "    .dataframe tbody tr th:only-of-type {\n",
       "        vertical-align: middle;\n",
       "    }\n",
       "\n",
       "    .dataframe tbody tr th {\n",
       "        vertical-align: top;\n",
       "    }\n",
       "\n",
       "    .dataframe thead th {\n",
       "        text-align: right;\n",
       "    }\n",
       "</style>\n",
       "<table border=\"1\" class=\"dataframe\">\n",
       "  <thead>\n",
       "    <tr style=\"text-align: right;\">\n",
       "      <th></th>\n",
       "      <th>tweet_id</th>\n",
       "      <th>img_num</th>\n",
       "      <th>p1_conf</th>\n",
       "      <th>p2_conf</th>\n",
       "      <th>p3_conf</th>\n",
       "      <th>retweet_count</th>\n",
       "      <th>favorite_count</th>\n",
       "      <th>ratings</th>\n",
       "    </tr>\n",
       "  </thead>\n",
       "  <tbody>\n",
       "    <tr>\n",
       "      <th>count</th>\n",
       "      <td>1.890000e+02</td>\n",
       "      <td>189.000000</td>\n",
       "      <td>189.000000</td>\n",
       "      <td>189.000000</td>\n",
       "      <td>189.000000</td>\n",
       "      <td>189.000000</td>\n",
       "      <td>189.000000</td>\n",
       "      <td>189.000000</td>\n",
       "    </tr>\n",
       "    <tr>\n",
       "      <th>mean</th>\n",
       "      <td>7.495577e+17</td>\n",
       "      <td>1.291005</td>\n",
       "      <td>0.627052</td>\n",
       "      <td>0.133005</td>\n",
       "      <td>0.053451</td>\n",
       "      <td>3049.164021</td>\n",
       "      <td>10258.407407</td>\n",
       "      <td>1.095238</td>\n",
       "    </tr>\n",
       "    <tr>\n",
       "      <th>std</th>\n",
       "      <td>6.763169e+16</td>\n",
       "      <td>0.695711</td>\n",
       "      <td>0.272027</td>\n",
       "      <td>0.109939</td>\n",
       "      <td>0.050021</td>\n",
       "      <td>4694.498299</td>\n",
       "      <td>13432.819850</td>\n",
       "      <td>0.212954</td>\n",
       "    </tr>\n",
       "    <tr>\n",
       "      <th>min</th>\n",
       "      <td>6.721600e+17</td>\n",
       "      <td>1.000000</td>\n",
       "      <td>0.059033</td>\n",
       "      <td>0.000014</td>\n",
       "      <td>0.000006</td>\n",
       "      <td>103.000000</td>\n",
       "      <td>693.000000</td>\n",
       "      <td>0.300000</td>\n",
       "    </tr>\n",
       "    <tr>\n",
       "      <th>25%</th>\n",
       "      <td>6.859438e+17</td>\n",
       "      <td>1.000000</td>\n",
       "      <td>0.396984</td>\n",
       "      <td>0.039563</td>\n",
       "      <td>0.011564</td>\n",
       "      <td>844.000000</td>\n",
       "      <td>2706.000000</td>\n",
       "      <td>1.000000</td>\n",
       "    </tr>\n",
       "    <tr>\n",
       "      <th>50%</th>\n",
       "      <td>7.385375e+17</td>\n",
       "      <td>1.000000</td>\n",
       "      <td>0.662660</td>\n",
       "      <td>0.107405</td>\n",
       "      <td>0.039012</td>\n",
       "      <td>1744.000000</td>\n",
       "      <td>5575.000000</td>\n",
       "      <td>1.100000</td>\n",
       "    </tr>\n",
       "    <tr>\n",
       "      <th>75%</th>\n",
       "      <td>8.113868e+17</td>\n",
       "      <td>1.000000</td>\n",
       "      <td>0.873010</td>\n",
       "      <td>0.199482</td>\n",
       "      <td>0.083834</td>\n",
       "      <td>3472.000000</td>\n",
       "      <td>12456.000000</td>\n",
       "      <td>1.200000</td>\n",
       "    </tr>\n",
       "    <tr>\n",
       "      <th>max</th>\n",
       "      <td>8.902403e+17</td>\n",
       "      <td>4.000000</td>\n",
       "      <td>0.999962</td>\n",
       "      <td>0.467678</td>\n",
       "      <td>0.245653</td>\n",
       "      <td>42228.000000</td>\n",
       "      <td>106827.000000</td>\n",
       "      <td>2.700000</td>\n",
       "    </tr>\n",
       "  </tbody>\n",
       "</table>\n",
       "</div>"
      ],
      "text/plain": [
       "           tweet_id     img_num     p1_conf     p2_conf     p3_conf  \\\n",
       "count  1.890000e+02  189.000000  189.000000  189.000000  189.000000   \n",
       "mean   7.495577e+17    1.291005    0.627052    0.133005    0.053451   \n",
       "std    6.763169e+16    0.695711    0.272027    0.109939    0.050021   \n",
       "min    6.721600e+17    1.000000    0.059033    0.000014    0.000006   \n",
       "25%    6.859438e+17    1.000000    0.396984    0.039563    0.011564   \n",
       "50%    7.385375e+17    1.000000    0.662660    0.107405    0.039012   \n",
       "75%    8.113868e+17    1.000000    0.873010    0.199482    0.083834   \n",
       "max    8.902403e+17    4.000000    0.999962    0.467678    0.245653   \n",
       "\n",
       "       retweet_count  favorite_count     ratings  \n",
       "count     189.000000      189.000000  189.000000  \n",
       "mean     3049.164021    10258.407407    1.095238  \n",
       "std      4694.498299    13432.819850    0.212954  \n",
       "min       103.000000      693.000000    0.300000  \n",
       "25%       844.000000     2706.000000    1.000000  \n",
       "50%      1744.000000     5575.000000    1.100000  \n",
       "75%      3472.000000    12456.000000    1.200000  \n",
       "max     42228.000000   106827.000000    2.700000  "
      ]
     },
     "execution_count": 73,
     "metadata": {},
     "output_type": "execute_result"
    }
   ],
   "source": []
  },
  {
   "cell_type": "markdown",
   "id": "57735052",
   "metadata": {},
   "source": [
    "##### Insights:\n",
    "\n",
    "The minimum favorite count is 66, mean is 7714, and the maximum favorite count is 144955\n",
    "\n",
    "The minimum retweet count is 11, mean is 2245, and the maximum retweet count is 70786\n",
    "\n",
    "About 32% of the dogs have no name\n",
    "\n",
    "Image number 1 is the most prominent (frequent)"
   ]
  },
  {
   "cell_type": "markdown",
   "id": "a594922b",
   "metadata": {},
   "source": [
    "### Visualizations\n",
    "\n",
    "#### Relationship between retweet count and favourite count)"
   ]
  },
  {
   "cell_type": "code",
   "execution_count": 86,
   "id": "a056bba6",
   "metadata": {},
   "outputs": [
    {
     "data": {
      "text/plain": [
       "0.9485096799442786"
      ]
     },
     "execution_count": 86,
     "metadata": {},
     "output_type": "execute_result"
    },
    {
     "data": {
      "image/png": "[encoded data removed]",
      "text/plain": [
       "<Figure size 432x288 with 1 Axes>"
      ]
     },
     "metadata": {
      "needs_background": "light"
     },
     "output_type": "display_data"
    }
   ],
   "source": []
  },
  {
   "cell_type": "markdown",
   "id": "5a5f03dc",
   "metadata": {},
   "source": [
    "The scatter plot shows that retweet count and favourite count has a positive correlation with correlation value of 0.94. There is a strong positive linear relation between retweet_count and favorite_Count."
   ]
  },
  {
   "cell_type": "markdown",
   "id": "1f708f8a",
   "metadata": {},
   "source": [
    "##### Relationship between ratings and favourite count)"
   ]
  },
  {
   "cell_type": "code",
   "execution_count": 83,
   "id": "78898b99",
   "metadata": {},
   "outputs": [
    {
     "data": {
      "text/plain": [
       "0.4125697577841633"
      ]
     },
     "execution_count": 83,
     "metadata": {},
     "output_type": "execute_result"
    },
    {
     "data": {
      "image/png": "[encoded data removed]",
      "text/plain": [
       "<Figure size 432x288 with 1 Axes>"
      ]
     },
     "metadata": {
      "needs_background": "light"
     },
     "output_type": "display_data"
    }
   ],
   "source": []
  },
  {
   "cell_type": "markdown",
   "id": "5de7c799",
   "metadata": {},
   "source": [
    "####  stage has the higest ratings"
   ]
  },
  {
   "cell_type": "code",
   "execution_count": 87,
   "id": "c77f8760",
   "metadata": {},
   "outputs": [
    {
     "data": {
      "text/plain": [
       "Text(0.5, 0, 'Dog Stage')"
      ]
     },
     "execution_count": 87,
     "metadata": {},
     "output_type": "execute_result"
    },
    {
     "data": {
      "image/png": "[encoded data removed]",
      "text/plain": [
       "<Figure size 432x288 with 1 Axes>"
      ]
     },
     "metadata": {
      "needs_background": "light"
     },
     "output_type": "display_data"
    }
   ],
   "source": []
  },
  {
   "cell_type": "markdown",
   "id": "d26538bd",
   "metadata": {},
   "source": [
    "The bar chart above shows the Dog stage ratings. The chart shows that pupper dog stage has the higest ratings than the others, followed by doggo dog stage. while floofer has the lowest ratings"
   ]
  },
  {
   "cell_type": "markdown",
   "id": "e757f98b",
   "metadata": {},
   "source": [
    "#### Dog stage with higest favourite count"
   ]
  },
  {
   "cell_type": "code",
   "execution_count": 82,
   "id": "81caa149",
   "metadata": {},
   "outputs": [
    {
     "data": {
      "text/plain": [
       "Text(0.5, 0, 'Dog Stage')"
      ]
     },
     "execution_count": 82,
     "metadata": {},
     "output_type": "execute_result"
    },
    {
     "data": {
      "image/png": "[encoded data removed]",
      "text/plain": [
       "<Figure size 432x288 with 1 Axes>"
      ]
     },
     "metadata": {
      "needs_background": "light"
     },
     "output_type": "display_data"
    }
   ],
   "source": []
  },
  {
   "cell_type": "markdown",
   "id": "b633aef8",
   "metadata": {},
   "source": [
    "The Bar chart above shows the Dog stage with favourite count. The chart pupper has the favourite count than others, while floofer has the lowest favorite count"
   ]
  },
  {
   "cell_type": "markdown",
   "id": "9211bb9f",
   "metadata": {},
   "source": [
    "### Conclusion\n",
    "> * Based on the findings above, we conlude that pupper dog stage has the higest ratings and the highest favourite count. Which might be as a result of the positive correlation between favourite count and ratings.\n",
    "\n",
    "> * There is a strong positive linear relation between retweet_count and favorite_Count. That is an increase in retweet count will lead to an increase in favourite count."
   ]
  },
  {
   "cell_type": "markdown",
   "id": "17c63484",
   "metadata": {},
   "source": [
    "### Limitation\n",
    ">  There was no sufficient data to analyse the other factors causing a breed or doge stage to have the highest rating.\n",
    "\n",
    ">  Most of the variables in the dataset are string types, which do not allow a high level statistical method to be conducted.\n",
    "\n",
    ">  Dog breed or Dog stage with the highest rating dose not mean that the doge is the best or safest to keep as pet or other useful purpose."
   ]
  },
  {
   "cell_type": "markdown",
   "id": "7856c216",
   "metadata": {},
   "source": [
    "### Recommendation\n",
    "* The WeRate Dogs should make more awareness inother to increase the retweet counts, which in turns increase the favourite count."
   ]
  }
 ],
 "metadata": {
  "kernelspec": {
   "display_name": "Python 3 (ipykernel)",
   "language": "python",
   "name": "python3"
  },
  "language_info": {
   "codemirror_mode": {
    "name": "ipython",
    "version": 3
   },
   "file_extension": ".py",
   "mimetype": "text/x-python",
   "name": "python",
   "nbconvert_exporter": "python",
   "pygments_lexer": "ipython3",
   "version": "3.9.7"
  }
 },
 "nbformat": 4,
 "nbformat_minor": 5
}
