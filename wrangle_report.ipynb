{
 "cells": [
  {
   "cell_type": "markdown",
   "id": "4800de99",
   "metadata": {},
   "source": [
    "# Title: DATA WRANGLING REPORT"
   ]
  },
  {
   "cell_type": "markdown",
   "id": "228acff3",
   "metadata": {},
   "source": [
    "### Overview\n",
    "\n",
    "WeRateDogs is a Twitter account that rategs people's dogs with a humorous comment about the dog. These ratings almost always have a denominator of 10. The numerators, though? Almost always greater than 10. 11/10, 12/10, 13/10, etc. Why? Because \"they're good dogs Brent.\" WeRateDogs has over 4 million followers and has received international media coverage."
   ]
  },
  {
   "cell_type": "markdown",
   "id": "2d59fea7",
   "metadata": {},
   "source": [
    "### Gathering\n",
    "\n",
    "* The first dataset was downloaded directly.\n",
    "\n",
    "* The second dataset was downloaded programatically using python's request library.\n",
    "\n",
    "* The third dataset was extracted from tweeter. i found 11 Quality issues and 4 tidiness issue which was documented.In this project, three datasets was used in this project."
   ]
  },
  {
   "cell_type": "markdown",
   "id": "ee1b9798",
   "metadata": {},
   "source": [
    "#### Assessing Data\n",
    "\n",
    "Once the three tables were obtained, I assessed the data as following:\n",
    "\n",
    "Visually: I printed the three different dataframes individually in a jupiter notebook and scrolled through left and righ, up and down. Secondly, I visually assessed the csv files in Excel spreadsheet.\n",
    "\n",
    "Programmatically: I did various programmatic assessment with various python and pandas methods and functions such as .info(), .describe(), .isnull(), .head(), .tail(), .sample(), .duplicated(), .value_counts() and shape."
   ]
  },
  {
   "cell_type": "markdown",
   "id": "f28b771d",
   "metadata": {},
   "source": [
    "#### Cleaning Data\n",
    "\n",
    "This part of the data wrangling process was divided into three parts: Define, Code and Test.\n",
    "Here, I found 11 Quality issues and 4 tidiness issue which was documented.In this project, three datasets was used in this project.\n",
    "\n",
    "##### twitter_archive (df1_)\n",
    "\n",
    "1)  There are tweet IDs that have 'retweeted_status_id, retweeted_status_user _id, and retweeted_status _timestamp values. These ids are that of retweets and won't be used for our analysis.\n",
    "\n",
    "\n",
    "2)  incomplete records (Bo instead of Bonaparte), (an instead of Andru)\n",
    "\n",
    "\n",
    "3)  wrong datatypes in the timestamp and (tweet id column is in int instead of string)\n",
    "\n",
    "\n",
    "4)  retweeted_status_id, retweeted_status_user_id, in_reply_to_status_id and in_reply_to_user_id columns  and retweeted_status_timestamp columns contain mostly missing values should be drop.\n",
    "\n",
    "\n",
    "5)  missing values in expanded_urls column.\n",
    "\n",
    "\n",
    "6)  empty strings should be idicated as NaN not none.\n",
    "\n",
    "7)  values in columns 'p1', 'p2', and 'p3' don't have consistent format\n",
    "\n",
    "8)  wrong data type (tweet id column is in int instead of string).\n",
    "\n",
    "\n",
    "\n",
    "##### image_predictions (df_2)\n",
    "\n",
    "9) wrong data type (tweet id column is in int instead of string).\n",
    "\n",
    "\n",
    "10) Values in columns 'p1', 'p2', and 'p3' don't have consistent format (Removing the underscore in the p1, p2 and p3 column).\n",
    "\n",
    "\n",
    "##### tweet_json (df_3)\n",
    "\n",
    "11) Erroneous data type (tweet id column is in int instead of string)\n",
    "\n",
    "\n",
    "### Tidiness issues\n",
    "\n",
    "##### twitter_archive (df_1)\n",
    "\n",
    "1) 4 columns (doggo, floofer, pupper, puppo) are categories of dog 'stage' and need to be one column 'stage' with 4 categories: doggo, floofer, pupper and puppo in it.\n",
    "\n",
    "\n",
    "2) The three tables should be combined as one single dataset\n"
   ]
  },
  {
   "cell_type": "markdown",
   "id": "3acba6ee",
   "metadata": {},
   "source": [
    "### Storing the Data\n",
    "\n",
    "After gathering, assessing and cleaning the data, I saved the merged data in a csv file named twitter_archive_master.csv."
   ]
  },
  {
   "cell_type": "markdown",
   "id": "3905c571",
   "metadata": {},
   "source": [
    "### Conclusion\n",
    "\n",
    "I love this project"
   ]
  }
 ],
 "metadata": {
  "kernelspec": {
   "display_name": "Python 3 (ipykernel)",
   "language": "python",
   "name": "python3"
  },
  "language_info": {
   "codemirror_mode": {
    "name": "ipython",
    "version": 3
   },
   "file_extension": ".py",
   "mimetype": "text/x-python",
   "name": "python",
   "nbconvert_exporter": "python",
   "pygments_lexer": "ipython3",
   "version": "3.9.7"
  }
 },
 "nbformat": 4,
 "nbformat_minor": 5
}
